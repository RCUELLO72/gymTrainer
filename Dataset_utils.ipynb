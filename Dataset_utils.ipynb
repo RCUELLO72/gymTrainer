{
 "cells": [
  {
   "cell_type": "code",
   "execution_count": 3,
   "metadata": {},
   "outputs": [],
   "source": [
    "\"\"\"\n",
    "Utilities to query the dataset\n",
    "\"\"\"\n",
    "import pickle\n",
    "import cv2\n",
    "import numpy as np\n",
    "import matplotlib.pyplot as plt\n",
    "import matplotlib.animation as animation"
   ]
  },
  {
   "cell_type": "code",
   "execution_count": 4,
   "metadata": {},
   "outputs": [],
   "source": [
    "def load_dataset(pkl_file_name):\n",
    "    # Load a saved dataset into memory\n",
    "    with open(pkl_file_name,'rb') as f:\n",
    "        my_dataset = pickle.load(f)\n",
    "    return(my_dataset)"
   ]
  },
  {
   "cell_type": "code",
   "execution_count": 5,
   "metadata": {},
   "outputs": [],
   "source": [
    "def draw_skeleton(W,H,coords):\n",
    "    img = np.zeros((W,H,3), np.uint8)\n",
    "    joint_pairs = [[0, 1], [1, 3], [0, 2], [2, 4],\n",
    "                   [5, 6], [5, 7], [7, 9], [6, 8], [8, 10],\n",
    "                   [5, 11], [6, 12], [11, 12],\n",
    "                   [11, 13], [12, 14], [13, 15], [14, 16]] \n",
    "    colormap_index = np.linspace(0, 1, len(joint_pairs))\n",
    "    pts = coords\n",
    "    for cm_ind, jp in zip(colormap_index, joint_pairs):\n",
    "        cm_color = tuple([int(x * 255) for x in plt.cm.cool(cm_ind)[:3]]) \n",
    "        pt1 = (int(pts[jp, 0][0]), int(pts[jp, 1][0]))\n",
    "        pt2 = (int(pts[jp, 0][1]), int(pts[jp, 1][1]))\n",
    "        cv2.line(img, pt1, pt2, cm_color, 3)\n",
    "    return(img)"
   ]
  },
  {
   "cell_type": "code",
   "execution_count": 6,
   "metadata": {},
   "outputs": [],
   "source": [
    "def get_skeleton_frame(gymn_dataset,clip_ID,frame_number):\n",
    "    coords = gymn_dataset[\"Skeletons\"][clip_ID][frame_number]\n",
    "    img = draw_skeleton(800,600,coords)\n",
    "    return(img)"
   ]
  },
  {
   "cell_type": "code",
   "execution_count": 5,
   "metadata": {},
   "outputs": [],
   "source": [
    "def show_skeleton_movie(gymn_dataset,clip_ID):\n",
    "    #not working \n",
    "    sk_list = gymn_dataset[\"Skeletons\"][clip_ID]\n",
    "    fig = plt.figure()\n",
    "    ims = []\n",
    "    for sk_frame in sk_list:\n",
    "        if type(sk_frame)==np.ndarray:\n",
    "            skeleton_img = draw_skeleton(800,600,sk_frame)\n",
    "            im = plt.imshow(skeleton_img,animated=True)\n",
    "            ims.append([im])\n",
    "    ani = animation.ArtistAnimation(fig,ims,interval=500,blit=True,repeat_delay=1000)            \n",
    "    plt.show()\n",
    "    return(ani)"
   ]
  },
  {
   "cell_type": "code",
   "execution_count": 7,
   "metadata": {},
   "outputs": [],
   "source": [
    "my_dataset = load_dataset('GymnData.pickle')"
   ]
  },
  {
   "cell_type": "code",
   "execution_count": 8,
   "metadata": {},
   "outputs": [
    {
     "data": {
      "text/html": [
       "<div>\n",
       "<style scoped>\n",
       "    .dataframe tbody tr th:only-of-type {\n",
       "        vertical-align: middle;\n",
       "    }\n",
       "\n",
       "    .dataframe tbody tr th {\n",
       "        vertical-align: top;\n",
       "    }\n",
       "\n",
       "    .dataframe thead th {\n",
       "        text-align: right;\n",
       "    }\n",
       "</style>\n",
       "<table border=\"1\" class=\"dataframe\">\n",
       "  <thead>\n",
       "    <tr style=\"text-align: right;\">\n",
       "      <th></th>\n",
       "      <th>PoseClipId</th>\n",
       "      <th>FileName</th>\n",
       "      <th>VideoSourceId</th>\n",
       "      <th>ExerciseType</th>\n",
       "      <th>ClipNumber</th>\n",
       "      <th>SampleType</th>\n",
       "      <th>CroppedPerson</th>\n",
       "      <th>ExtraPerson</th>\n",
       "      <th>NumberOfFrames</th>\n",
       "    </tr>\n",
       "  </thead>\n",
       "  <tbody>\n",
       "    <tr>\n",
       "      <td>0</td>\n",
       "      <td>42980195</td>\n",
       "      <td>011_SeatedInAndOuts_002_BAD.mp4</td>\n",
       "      <td>011</td>\n",
       "      <td>SeatedInAndOuts</td>\n",
       "      <td>002</td>\n",
       "      <td>BAD</td>\n",
       "      <td>0</td>\n",
       "      <td>0</td>\n",
       "      <td>13</td>\n",
       "    </tr>\n",
       "    <tr>\n",
       "      <td>1</td>\n",
       "      <td>32715923</td>\n",
       "      <td>010_RussianTwist_002_GOOD.mp4</td>\n",
       "      <td>010</td>\n",
       "      <td>RussianTwist</td>\n",
       "      <td>002</td>\n",
       "      <td>GOOD</td>\n",
       "      <td>0</td>\n",
       "      <td>0</td>\n",
       "      <td>10</td>\n",
       "    </tr>\n",
       "    <tr>\n",
       "      <td>2</td>\n",
       "      <td>83772868</td>\n",
       "      <td>003_ChairSitUps_003_GOOD.mp4</td>\n",
       "      <td>003</td>\n",
       "      <td>ChairSitUps</td>\n",
       "      <td>003</td>\n",
       "      <td>GOOD</td>\n",
       "      <td>18</td>\n",
       "      <td>0</td>\n",
       "      <td>21</td>\n",
       "    </tr>\n",
       "    <tr>\n",
       "      <td>3</td>\n",
       "      <td>51335908</td>\n",
       "      <td>001_BulgarianSplitSquat_002_GOOD.mp4</td>\n",
       "      <td>001</td>\n",
       "      <td>BulgarianSplitSquat</td>\n",
       "      <td>002</td>\n",
       "      <td>GOOD</td>\n",
       "      <td>0</td>\n",
       "      <td>0</td>\n",
       "      <td>16</td>\n",
       "    </tr>\n",
       "    <tr>\n",
       "      <td>4</td>\n",
       "      <td>63419</td>\n",
       "      <td>008_PlankShoulderTaps_003_GOOD.mp4</td>\n",
       "      <td>008</td>\n",
       "      <td>PlankShoulderTaps</td>\n",
       "      <td>003</td>\n",
       "      <td>GOOD</td>\n",
       "      <td>15</td>\n",
       "      <td>0</td>\n",
       "      <td>20</td>\n",
       "    </tr>\n",
       "  </tbody>\n",
       "</table>\n",
       "</div>"
      ],
      "text/plain": [
       "  PoseClipId                              FileName VideoSourceId  \\\n",
       "0   42980195       011_SeatedInAndOuts_002_BAD.mp4           011   \n",
       "1   32715923         010_RussianTwist_002_GOOD.mp4           010   \n",
       "2   83772868          003_ChairSitUps_003_GOOD.mp4           003   \n",
       "3   51335908  001_BulgarianSplitSquat_002_GOOD.mp4           001   \n",
       "4      63419    008_PlankShoulderTaps_003_GOOD.mp4           008   \n",
       "\n",
       "          ExerciseType ClipNumber SampleType CroppedPerson ExtraPerson  \\\n",
       "0      SeatedInAndOuts        002        BAD             0           0   \n",
       "1         RussianTwist        002       GOOD             0           0   \n",
       "2          ChairSitUps        003       GOOD            18           0   \n",
       "3  BulgarianSplitSquat        002       GOOD             0           0   \n",
       "4    PlankShoulderTaps        003       GOOD            15           0   \n",
       "\n",
       "  NumberOfFrames  \n",
       "0             13  \n",
       "1             10  \n",
       "2             21  \n",
       "3             16  \n",
       "4             20  "
      ]
     },
     "execution_count": 8,
     "metadata": {},
     "output_type": "execute_result"
    }
   ],
   "source": [
    "my_dataset['ClipList'].head()"
   ]
  },
  {
   "cell_type": "code",
   "execution_count": 13,
   "metadata": {},
   "outputs": [
    {
     "data": {
      "image/png": "[encoded data removed]",
      "text/plain": [
       "<Figure size 432x288 with 1 Axes>"
      ]
     },
     "metadata": {
      "needs_background": "light"
     },
     "output_type": "display_data"
    }
   ],
   "source": [
    "# Example how to show a frame from a clip\n",
    "img = get_skeleton_frame(my_dataset,42980195,0)\n",
    "plt.imshow(img)\n",
    "plt.show()"
   ]
  },
  {
   "cell_type": "code",
   "execution_count": 14,
   "metadata": {},
   "outputs": [
    {
     "data": {
      "image/png": "[encoded data removed]",
      "text/plain": [
       "<Figure size 432x288 with 1 Axes>"
      ]
     },
     "metadata": {
      "needs_background": "light"
     },
     "output_type": "display_data"
    }
   ],
   "source": [
    "# Example how to show a frame from a clip\n",
    "img = get_skeleton_frame(my_dataset,42980195,1)\n",
    "plt.imshow(img)\n",
    "plt.show()"
   ]
  },
  {
   "cell_type": "code",
   "execution_count": 15,
   "metadata": {},
   "outputs": [
    {
     "data": {
      "image/png": "[encoded data removed]",
      "text/plain": [
       "<Figure size 432x288 with 1 Axes>"
      ]
     },
     "metadata": {
      "needs_background": "light"
     },
     "output_type": "display_data"
    }
   ],
   "source": [
    "# Example how to show a frame from a clip\n",
    "img = get_skeleton_frame(my_dataset,42980195,2)\n",
    "plt.imshow(img)\n",
    "plt.show()"
   ]
  },
  {
   "cell_type": "code",
   "execution_count": null,
   "metadata": {},
   "outputs": [],
   "source": []
  }
 ],
 "metadata": {
  "kernelspec": {
   "display_name": "Python 3",
   "language": "python",
   "name": "python3"
  },
  "language_info": {
   "codemirror_mode": {
    "name": "ipython",
    "version": 3
   },
   "file_extension": ".py",
   "mimetype": "text/x-python",
   "name": "python",
   "nbconvert_exporter": "python",
   "pygments_lexer": "ipython3",
   "version": "3.7.4"
  }
 },
 "nbformat": 4,
 "nbformat_minor": 4
}
